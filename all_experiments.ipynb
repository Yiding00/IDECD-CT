{
 "cells": [
  {
   "cell_type": "markdown",
   "metadata": {},
   "source": [
    "# SDE 论文所有实验"
   ]
  },
  {
   "cell_type": "code",
   "execution_count": 1,
   "metadata": {},
   "outputs": [],
   "source": [
    "# import numpy as np\n",
    "# from Analysis.utils import set_seed, evaluate_result, save_evaluation_json, get_model"
   ]
  },
  {
   "cell_type": "markdown",
   "metadata": {},
   "source": [
    "# 模拟实验"
   ]
  },
  {
   "cell_type": "markdown",
   "metadata": {},
   "source": [
    "## Lorenz96 模拟实验"
   ]
  },
  {
   "cell_type": "markdown",
   "metadata": {},
   "source": [
    "#### SDE-lorenz96"
   ]
  },
  {
   "cell_type": "code",
   "execution_count": null,
   "metadata": {},
   "outputs": [],
   "source": [
    "# TargetBaseline = '25-SDE'\n",
    "# TargetData = 'Lorenz96_all'\n",
    "# Baseline_model = get_model(TargetBaseline, TargetData)\n",
    "\n",
    "\n",
    "# all_evaluations = []\n",
    "# config = {\n",
    "#     'num_nodes': 20,\n",
    "#     'time_length': 500,\n",
    "#     'show_graph': True,\n",
    "#     'scheduler': 'CosineAnnealingLR',\n",
    "#     'device': 'cuda:0'\n",
    "# }\n",
    "# graphs = []\n",
    "# for seed in range(5):\n",
    "#     set_seed(seed)\n",
    "#     graph, real_graph = Baseline_model(config)\n",
    "#     evaluation, plot = evaluate_result(real_graph, np.mean(np.mean(graph, axis=3), axis=0))\n",
    "#     evaluation['seed'] = seed\n",
    "#     graphs.append(graph)\n",
    "#     all_evaluations.append(evaluation)\n",
    "#     print(f\"seed: {seed}, evaluation: {evaluation}\")\n",
    "\n",
    "# save_evaluation_json(all_evaluations, TargetBaseline, TargetData, config, graphs)"
   ]
  },
  {
   "cell_type": "markdown",
   "metadata": {},
   "source": [
    "#### SDE-Lorenz96-Noisy"
   ]
  },
  {
   "cell_type": "code",
   "execution_count": 3,
   "metadata": {},
   "outputs": [],
   "source": [
    "# # Noisy data\n",
    "# TargetBaseline = '25-SDE'\n",
    "# TargetData = 'Lorenz96_all'\n",
    "# Baseline_model = get_model(TargetBaseline, TargetData)\n",
    "\n",
    "# for sd in [1,0.5,0.2]:\n",
    "#     all_evaluations = []\n",
    "#     config = {\n",
    "#         'num_nodes': 20,\n",
    "#         'time_length': 500,\n",
    "#         'show_graph': True,\n",
    "#         'scheduler': 'CosineAnnealingLR',\n",
    "#         'device': 'cuda:0',\n",
    "#         'sd': sd\n",
    "#     }\n",
    "#     graphs = []\n",
    "#     for seed in range(5):\n",
    "#         set_seed(seed)\n",
    "#         graph, real_graph = Baseline_model(config)\n",
    "#         evaluation, plot = evaluate_result(real_graph, np.mean(np.mean(graph, axis=3), axis=0))\n",
    "#         evaluation['seed'] = seed\n",
    "#         graphs.append(graph)\n",
    "#         all_evaluations.append(evaluation)\n",
    "#         print(f\"seed: {seed}, evaluation: {evaluation}\")\n",
    "\n",
    "#     save_evaluation_json(all_evaluations, TargetBaseline, TargetData, config, graphs)"
   ]
  },
  {
   "cell_type": "markdown",
   "metadata": {},
   "source": [
    "#### NGM-lorenz96"
   ]
  },
  {
   "cell_type": "code",
   "execution_count": null,
   "metadata": {},
   "outputs": [],
   "source": [
    "# TargetBaseline = '22-NGM'\n",
    "# TargetData = 'Lorenz96_all'\n",
    "# Baseline_model = get_model(TargetBaseline, TargetData)\n",
    "# all_evaluations = []\n",
    "# config = {\n",
    "#     'num_nodes': 20,\n",
    "#     'time_length': 500,\n",
    "#     'epoch': 200,\n",
    "#     'show_graph': False,\n",
    "# }\n",
    "# graphs = []\n",
    "# for seed in range(5):\n",
    "#     set_seed(seed)\n",
    "#     graph, real_graph = Baseline_model(config)\n",
    "#     evaluation, plot = evaluate_result(real_graph, graph)\n",
    "#     evaluation['seed'] = seed\n",
    "#     graphs.append(graph)\n",
    "#     all_evaluations.append(evaluation)\n",
    "#     print(f\"seed: {seed}, evaluation: {evaluation}\")\n",
    "\n",
    "# save_evaluation_json(all_evaluations, TargetBaseline, TargetData, config, graphs)"
   ]
  },
  {
   "cell_type": "markdown",
   "metadata": {},
   "source": [
    "#### 画图"
   ]
  },
  {
   "cell_type": "code",
   "execution_count": 5,
   "metadata": {},
   "outputs": [],
   "source": [
    "# import numpy as np\n",
    "# from Modules.LoadData.load_data_Lorenz96_all import get_causality\n",
    "# NGM_1000 = np.load(\"/home/private_user/work/STCL/Baselines/25-SDE/All_experiments/Selected_results/22-NGM_Lorenz96_all_20250704-122911_evaluations.npy\")  # (5, 20, 20) 5个随机种子 20*20因果矩阵\n",
    "# SDE_1000 = np.load(\"/home/private_user/work/STCL/Baselines/25-SDE/All_experiments/Selected_results/25-SDE_Lorenz96_all_t_1000.npy\")  # (5, 10, 20, 20, 10) # 5个随机种子 10个窗口 20*20因果矩阵 10个隐维度\n",
    "# SDE_1000_mean = np.mean(np.mean(SDE_1000, axis=4), axis=1)  # (5, 20, 20) 5个随机种子 20*20因果矩阵\n",
    "\n",
    "# TRDCDL_1000 = np.load(\"/home/private_user/work/STCL/Baselines/25-SDE/All_experiments/Selected_results/24-TRDCDL_Lorenz96_20250705-214019_evaluations.npy\")  # (1, 20, 20) 1个随机种子 20*20因果矩阵\n",
    "\n",
    "# # for C in [NGM_1000, SDE_1000_mean, TRDCDL_1000]:\n",
    "# #     threshold = np.percentile(C, 80)\n",
    "# #     C[C < threshold] = 0\n",
    "# threshold_NGM = np.percentile(NGM_1000, 80)\n",
    "# NGM_1000_clean = NGM_1000.copy()\n",
    "# NGM_1000_clean[NGM_1000 < threshold_NGM] = 0\n",
    "\n",
    "# threshold_SDE = np.percentile(SDE_1000_mean, 80)\n",
    "# SDE_1000_mean_clean = SDE_1000_mean.copy()\n",
    "# SDE_1000_mean_clean[SDE_1000_mean < threshold_SDE] = 0\n",
    "\n",
    "# threshold_TRDCDL = np.percentile(TRDCDL_1000, 80)\n",
    "# TRDCDL_1000_clean = TRDCDL_1000.copy()\n",
    "# TRDCDL_1000_clean[TRDCDL_1000 < threshold_TRDCDL] = 0\n",
    "\n",
    "# real_causality = get_causality(num_nodes=20)\n",
    "\n",
    "# import matplotlib.pyplot as plt\n",
    "# import seaborn as sns\n",
    "\n",
    "# # 创建一个包含3个子图的图形\n",
    "# fig, axes = plt.subplots(1, 3, figsize=(15, 5))\n",
    "\n",
    "# heatmap_kws = {\n",
    "#     'cmap': 'Blues',\n",
    "#     'xticklabels': False,\n",
    "#     'yticklabels': False,\n",
    "#     'square': True,\n",
    "#     'cbar_kws': {'shrink': 0.8}  # Make colorbars slightly smaller\n",
    "# }\n",
    "\n",
    "# # 绘制ground truth\n",
    "# sns.heatmap(real_causality, ax=axes[0], **heatmap_kws)\n",
    "# axes[0].set_title('Ground Truth', fontsize=25)\n",
    "# cbar = axes[0].collections[0].colorbar\n",
    "# cbar.ax.tick_params(labelsize=16)\n",
    "\n",
    "# # 绘制SDE_1000_mean\n",
    "# sns.heatmap(SDE_1000_mean[0], ax=axes[1], **heatmap_kws)\n",
    "# axes[1].set_title('IDECD-CT', fontsize=25)\n",
    "# cbar = axes[1].collections[0].colorbar\n",
    "# cbar.ax.tick_params(labelsize=16)\n",
    "\n",
    "# sns.heatmap(SDE_1000_mean_clean[0], ax=axes[2], **heatmap_kws)\n",
    "# axes[2].set_title('IDECD-CT Top 20%', fontsize=25)\n",
    "# cbar = axes[2].collections[0].colorbar\n",
    "# cbar.ax.tick_params(labelsize=16)\n",
    "\n",
    "# plt.tight_layout()\n",
    "# plt.savefig('Figs/Lorenz/Synthetic_1.pdf')\n",
    "# # 显示图形\n",
    "# plt.show()\n",
    "\n",
    "# # # 创建一个包含2个子图的图形\n",
    "# # fig, axes = plt.subplots(1, 2, figsize=(10, 5))\n",
    "\n",
    "# # heatmap_kws = {\n",
    "# #     'cmap': 'Blues',\n",
    "# #     'xticklabels': False,\n",
    "# #     'yticklabels': False,\n",
    "# #     'square': True,\n",
    "# #     'cbar_kws': {'shrink': 0.8}  # Make colorbars slightly smaller\n",
    "# # }\n",
    "\n",
    "# # # 绘制ground truth\n",
    "# # sns.heatmap(real_causality, ax=axes[0], **heatmap_kws)\n",
    "# # axes[0].set_title('Ground Truth', fontsize=25)\n",
    "# # cbar = axes[0].collections[0].colorbar\n",
    "# # cbar.ax.tick_params(labelsize=16)\n",
    "\n",
    "# # sns.heatmap(SDE_1000_mean_clean[0], ax=axes[1], **heatmap_kws)\n",
    "# # axes[1].set_title('IDECD-CT Top 20%', fontsize=25)\n",
    "# # cbar = axes[1].collections[0].colorbar\n",
    "# # cbar.ax.tick_params(labelsize=16)\n",
    "\n",
    "# # plt.tight_layout()\n",
    "# # plt.savefig('Figs/Lorenz/Synthetic_3.pdf')\n",
    "# # # 显示图形\n",
    "# # plt.show()"
   ]
  },
  {
   "cell_type": "code",
   "execution_count": 6,
   "metadata": {},
   "outputs": [],
   "source": [
    "# fig, axes = plt.subplots(1, 4, figsize=(20, 5))\n",
    "# # 绘制TRDCDL_1000\n",
    "# sns.heatmap(TRDCDL_1000[0], ax=axes[0], **heatmap_kws)\n",
    "# axes[0].set_title('TRDCDL', fontsize=33)\n",
    "# cbar = axes[0].collections[0].colorbar\n",
    "# cbar.ax.tick_params(labelsize=21)\n",
    "# # 绘制TRDCDL_1000_clean\n",
    "# sns.heatmap(TRDCDL_1000_clean[0], ax=axes[1], **heatmap_kws)\n",
    "# axes[1].set_title('TRDCDL Top 20%', fontsize=33)\n",
    "# cbar = axes[1].collections[0].colorbar\n",
    "# cbar.ax.tick_params(labelsize=21)\n",
    "# # 绘制NGM_1000\n",
    "# sns.heatmap(NGM_1000[0], ax=axes[2], **heatmap_kws)\n",
    "# axes[2].set_title('NGM', fontsize=33)\n",
    "# cbar = axes[2].collections[0].colorbar\n",
    "# cbar.ax.tick_params(labelsize=21)\n",
    "# # 绘制NGM_1000_clean\n",
    "# sns.heatmap(NGM_1000_clean[0], ax=axes[3], **heatmap_kws)\n",
    "# axes[3].set_title('NGM Top 20%', fontsize=33)\n",
    "# cbar = axes[3].collections[0].colorbar\n",
    "# cbar.ax.tick_params(labelsize=21)  \n",
    "# plt.tight_layout()\n",
    "# plt.savefig('Figs/Lorenz/Synthetic_2.pdf')\n",
    "# # 显示图形\n",
    "# plt.show()"
   ]
  },
  {
   "cell_type": "markdown",
   "metadata": {},
   "source": [
    "# 真实数据实验"
   ]
  },
  {
   "cell_type": "markdown",
   "metadata": {},
   "source": [
    "#### SDE - starplus"
   ]
  },
  {
   "cell_type": "code",
   "execution_count": 7,
   "metadata": {},
   "outputs": [],
   "source": [
    "# import matplotlib.pyplot as plt\n",
    "# from IPython.display import clear_output\n",
    "# TargetBaseline = '25-SDE'\n",
    "# TargetData = 'starplus'\n",
    "# Baseline_model = get_model(TargetBaseline, TargetData)\n",
    "\n",
    "# # all_evaluations = []\n",
    "# config = {\n",
    "#     \"hidden\": 6,\n",
    "#     \"lr\": 8.208807435843559e-05,\n",
    "#     \"reg\": 0,\n",
    "#     \"causality_std\": 0.00016134947723961851,\n",
    "#     \"horizon\": 5,\n",
    "#     \"scheduler\": \"CosineAnnealingLR\",\n",
    "#     \"epoch\": 3264,\n",
    "# }\n",
    "\n",
    "# for seed in [0]:\n",
    "#     set_seed(seed)\n",
    "#     graphs, losses = Baseline_model(config)\n"
   ]
  }
 ],
 "metadata": {
  "kernelspec": {
   "display_name": "Python 3",
   "language": "python",
   "name": "python3"
  },
  "language_info": {
   "codemirror_mode": {
    "name": "ipython",
    "version": 3
   },
   "file_extension": ".py",
   "mimetype": "text/x-python",
   "name": "python",
   "nbconvert_exporter": "python",
   "pygments_lexer": "ipython3",
   "version": "3.12.5"
  }
 },
 "nbformat": 4,
 "nbformat_minor": 2
}
